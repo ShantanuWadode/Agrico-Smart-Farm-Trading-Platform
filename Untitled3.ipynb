{
 "cells": [
  {
   "cell_type": "code",
   "execution_count": 1,
   "id": "b5e90ab3",
   "metadata": {},
   "outputs": [
    {
     "name": "stdout",
     "output_type": "stream",
     "text": [
      "Note: you may need to restart the kernel to use updated packages.Collecting finnhub-python\n",
      "  Obtaining dependency information for finnhub-python from https://files.pythonhosted.org/packages/9a/92/126a9d88980725c39e7cca4b458a62281909586a563353bf854c5f2e3034/finnhub_python-2.4.20-py3-none-any.whl.metadata\n",
      "  Downloading finnhub_python-2.4.20-py3-none-any.whl.metadata (9.0 kB)\n",
      "Requirement already satisfied: requests>=2.22.0 in c:\\users\\admin\\appdata\\local\\programs\\python\\python311\\lib\\site-packages (from finnhub-python) (2.31.0)\n",
      "Requirement already satisfied: charset-normalizer<4,>=2 in c:\\users\\admin\\appdata\\local\\programs\\python\\python311\\lib\\site-packages (from requests>=2.22.0->finnhub-python) (3.1.0)\n",
      "Requirement already satisfied: idna<4,>=2.5 in c:\\users\\admin\\appdata\\local\\programs\\python\\python311\\lib\\site-packages (from requests>=2.22.0->finnhub-python) (3.4)\n",
      "Requirement already satisfied: urllib3<3,>=1.21.1 in c:\\users\\admin\\appdata\\local\\programs\\python\\python311\\lib\\site-packages (from requests>=2.22.0->finnhub-python) (1.26.16)\n",
      "Requirement already satisfied: certifi>=2017.4.17 in c:\\users\\admin\\appdata\\local\\programs\\python\\python311\\lib\\site-packages (from requests>=2.22.0->finnhub-python) (2023.5.7)\n",
      "Downloading finnhub_python-2.4.20-py3-none-any.whl (11 kB)\n",
      "Installing collected packages: finnhub-python\n",
      "Successfully installed finnhub-python-2.4.20\n",
      "\n"
     ]
    },
    {
     "name": "stderr",
     "output_type": "stream",
     "text": [
      "\n",
      "[notice] A new release of pip is available: 23.2.1 -> 24.1.2\n",
      "[notice] To update, run: python.exe -m pip install --upgrade pip\n"
     ]
    }
   ],
   "source": [
    "pip install finnhub-python"
   ]
  },
  {
   "cell_type": "code",
   "execution_count": 2,
   "id": "fa40ad25",
   "metadata": {},
   "outputs": [
    {
     "ename": "FinnhubAPIException",
     "evalue": "FinnhubAPIException(status_code: 403): You don't have access to this resource.",
     "output_type": "error",
     "traceback": [
      "\u001b[1;31m---------------------------------------------------------------------------\u001b[0m",
      "\u001b[1;31mFinnhubAPIException\u001b[0m                       Traceback (most recent call last)",
      "Cell \u001b[1;32mIn[2], line 95\u001b[0m\n\u001b[0;32m     92\u001b[0m     \u001b[38;5;28mprint\u001b[39m(\u001b[38;5;124m\"\u001b[39m\u001b[38;5;124mRecommendations:\u001b[39m\u001b[38;5;130;01m\\n\u001b[39;00m\u001b[38;5;124m\"\u001b[39m, recommendations[[\u001b[38;5;124m'\u001b[39m\u001b[38;5;124mclose\u001b[39m\u001b[38;5;124m'\u001b[39m, \u001b[38;5;124m'\u001b[39m\u001b[38;5;124mlong_term_signal\u001b[39m\u001b[38;5;124m'\u001b[39m, \u001b[38;5;124m'\u001b[39m\u001b[38;5;124mshort_term_signal\u001b[39m\u001b[38;5;124m'\u001b[39m]])\n\u001b[0;32m     94\u001b[0m \u001b[38;5;28;01mif\u001b[39;00m \u001b[38;5;18m__name__\u001b[39m \u001b[38;5;241m==\u001b[39m \u001b[38;5;124m\"\u001b[39m\u001b[38;5;124m__main__\u001b[39m\u001b[38;5;124m\"\u001b[39m:\n\u001b[1;32m---> 95\u001b[0m     \u001b[43mmain\u001b[49m\u001b[43m(\u001b[49m\u001b[43m)\u001b[49m\n",
      "Cell \u001b[1;32mIn[2], line 84\u001b[0m, in \u001b[0;36mmain\u001b[1;34m()\u001b[0m\n\u001b[0;32m     81\u001b[0m symbol \u001b[38;5;241m=\u001b[39m \u001b[38;5;124m'\u001b[39m\u001b[38;5;124mAAPL\u001b[39m\u001b[38;5;124m'\u001b[39m\n\u001b[0;32m     83\u001b[0m client \u001b[38;5;241m=\u001b[39m init_finnhub_client(api_key)\n\u001b[1;32m---> 84\u001b[0m stock_data \u001b[38;5;241m=\u001b[39m \u001b[43mget_stock_data\u001b[49m\u001b[43m(\u001b[49m\u001b[43msymbol\u001b[49m\u001b[43m,\u001b[49m\u001b[43m \u001b[49m\u001b[43mclient\u001b[49m\u001b[43m)\u001b[49m\n\u001b[0;32m     85\u001b[0m stock_data \u001b[38;5;241m=\u001b[39m detect_sudden_changes(stock_data)\n\u001b[0;32m     87\u001b[0m X, y, y_short \u001b[38;5;241m=\u001b[39m prepare_training_data(stock_data)\n",
      "Cell \u001b[1;32mIn[2], line 14\u001b[0m, in \u001b[0;36mget_stock_data\u001b[1;34m(symbol, client)\u001b[0m\n\u001b[0;32m     13\u001b[0m \u001b[38;5;28;01mdef\u001b[39;00m \u001b[38;5;21mget_stock_data\u001b[39m(symbol, client):\n\u001b[1;32m---> 14\u001b[0m     res \u001b[38;5;241m=\u001b[39m \u001b[43mclient\u001b[49m\u001b[38;5;241;43m.\u001b[39;49m\u001b[43mstock_candles\u001b[49m\u001b[43m(\u001b[49m\u001b[43msymbol\u001b[49m\u001b[43m,\u001b[49m\u001b[43m \u001b[49m\u001b[38;5;124;43m'\u001b[39;49m\u001b[38;5;124;43mD\u001b[39;49m\u001b[38;5;124;43m'\u001b[39;49m\u001b[43m,\u001b[49m\u001b[43m \u001b[49m\u001b[38;5;28;43mint\u001b[39;49m\u001b[43m(\u001b[49m\u001b[43mpd\u001b[49m\u001b[38;5;241;43m.\u001b[39;49m\u001b[43mTimestamp\u001b[49m\u001b[43m(\u001b[49m\u001b[38;5;124;43m'\u001b[39;49m\u001b[38;5;124;43m2020-01-01\u001b[39;49m\u001b[38;5;124;43m'\u001b[39;49m\u001b[43m)\u001b[49m\u001b[38;5;241;43m.\u001b[39;49m\u001b[43mtimestamp\u001b[49m\u001b[43m(\u001b[49m\u001b[43m)\u001b[49m\u001b[43m)\u001b[49m\u001b[43m,\u001b[49m\u001b[43m \u001b[49m\u001b[38;5;28;43mint\u001b[39;49m\u001b[43m(\u001b[49m\u001b[43mpd\u001b[49m\u001b[38;5;241;43m.\u001b[39;49m\u001b[43mTimestamp\u001b[49m\u001b[38;5;241;43m.\u001b[39;49m\u001b[43mnow\u001b[49m\u001b[43m(\u001b[49m\u001b[43m)\u001b[49m\u001b[38;5;241;43m.\u001b[39;49m\u001b[43mtimestamp\u001b[49m\u001b[43m(\u001b[49m\u001b[43m)\u001b[49m\u001b[43m)\u001b[49m\u001b[43m)\u001b[49m\n\u001b[0;32m     15\u001b[0m     data \u001b[38;5;241m=\u001b[39m pd\u001b[38;5;241m.\u001b[39mDataFrame(res)\n\u001b[0;32m     16\u001b[0m     data[\u001b[38;5;124m'\u001b[39m\u001b[38;5;124mt\u001b[39m\u001b[38;5;124m'\u001b[39m] \u001b[38;5;241m=\u001b[39m pd\u001b[38;5;241m.\u001b[39mto_datetime(data[\u001b[38;5;124m'\u001b[39m\u001b[38;5;124mt\u001b[39m\u001b[38;5;124m'\u001b[39m], unit\u001b[38;5;241m=\u001b[39m\u001b[38;5;124m'\u001b[39m\u001b[38;5;124ms\u001b[39m\u001b[38;5;124m'\u001b[39m)\n",
      "File \u001b[1;32m~\\AppData\\Local\\Programs\\Python\\Python311\\Lib\\site-packages\\finnhub\\client.py:226\u001b[0m, in \u001b[0;36mClient.stock_candles\u001b[1;34m(self, symbol, resolution, _from, to, **kwargs)\u001b[0m\n\u001b[0;32m    218\u001b[0m \u001b[38;5;28;01mdef\u001b[39;00m \u001b[38;5;21mstock_candles\u001b[39m(\u001b[38;5;28mself\u001b[39m, symbol, resolution, _from, to, \u001b[38;5;241m*\u001b[39m\u001b[38;5;241m*\u001b[39mkwargs):\n\u001b[0;32m    219\u001b[0m     params \u001b[38;5;241m=\u001b[39m \u001b[38;5;28mself\u001b[39m\u001b[38;5;241m.\u001b[39m_merge_two_dicts({\n\u001b[0;32m    220\u001b[0m         \u001b[38;5;124m\"\u001b[39m\u001b[38;5;124msymbol\u001b[39m\u001b[38;5;124m\"\u001b[39m: symbol,\n\u001b[0;32m    221\u001b[0m         \u001b[38;5;124m\"\u001b[39m\u001b[38;5;124mresolution\u001b[39m\u001b[38;5;124m\"\u001b[39m: resolution,\n\u001b[0;32m    222\u001b[0m         \u001b[38;5;124m\"\u001b[39m\u001b[38;5;124mfrom\u001b[39m\u001b[38;5;124m\"\u001b[39m: _from,\n\u001b[0;32m    223\u001b[0m         \u001b[38;5;124m\"\u001b[39m\u001b[38;5;124mto\u001b[39m\u001b[38;5;124m\"\u001b[39m: to\n\u001b[0;32m    224\u001b[0m     }, kwargs)\n\u001b[1;32m--> 226\u001b[0m     \u001b[38;5;28;01mreturn\u001b[39;00m \u001b[38;5;28;43mself\u001b[39;49m\u001b[38;5;241;43m.\u001b[39;49m\u001b[43m_get\u001b[49m\u001b[43m(\u001b[49m\u001b[38;5;124;43m\"\u001b[39;49m\u001b[38;5;124;43m/stock/candle\u001b[39;49m\u001b[38;5;124;43m\"\u001b[39;49m\u001b[43m,\u001b[49m\u001b[43m \u001b[49m\u001b[43mparams\u001b[49m\u001b[38;5;241;43m=\u001b[39;49m\u001b[43mparams\u001b[49m\u001b[43m)\u001b[49m\n",
      "File \u001b[1;32m~\\AppData\\Local\\Programs\\Python\\Python311\\Lib\\site-packages\\finnhub\\client.py:71\u001b[0m, in \u001b[0;36mClient._get\u001b[1;34m(self, path, **kwargs)\u001b[0m\n\u001b[0;32m     70\u001b[0m \u001b[38;5;28;01mdef\u001b[39;00m \u001b[38;5;21m_get\u001b[39m(\u001b[38;5;28mself\u001b[39m, path, \u001b[38;5;241m*\u001b[39m\u001b[38;5;241m*\u001b[39mkwargs):\n\u001b[1;32m---> 71\u001b[0m     \u001b[38;5;28;01mreturn\u001b[39;00m \u001b[38;5;28;43mself\u001b[39;49m\u001b[38;5;241;43m.\u001b[39;49m\u001b[43m_request\u001b[49m\u001b[43m(\u001b[49m\u001b[38;5;124;43m\"\u001b[39;49m\u001b[38;5;124;43mget\u001b[39;49m\u001b[38;5;124;43m\"\u001b[39;49m\u001b[43m,\u001b[49m\u001b[43m \u001b[49m\u001b[43mpath\u001b[49m\u001b[43m,\u001b[49m\u001b[43m \u001b[49m\u001b[38;5;241;43m*\u001b[39;49m\u001b[38;5;241;43m*\u001b[39;49m\u001b[43mkwargs\u001b[49m\u001b[43m)\u001b[49m\n",
      "File \u001b[1;32m~\\AppData\\Local\\Programs\\Python\\Python311\\Lib\\site-packages\\finnhub\\client.py:41\u001b[0m, in \u001b[0;36mClient._request\u001b[1;34m(self, method, path, **kwargs)\u001b[0m\n\u001b[0;32m     38\u001b[0m kwargs[\u001b[38;5;124m\"\u001b[39m\u001b[38;5;124mparams\u001b[39m\u001b[38;5;124m\"\u001b[39m] \u001b[38;5;241m=\u001b[39m \u001b[38;5;28mself\u001b[39m\u001b[38;5;241m.\u001b[39m_format_params(kwargs\u001b[38;5;241m.\u001b[39mget(\u001b[38;5;124m\"\u001b[39m\u001b[38;5;124mparams\u001b[39m\u001b[38;5;124m\"\u001b[39m, {}))\n\u001b[0;32m     40\u001b[0m response \u001b[38;5;241m=\u001b[39m \u001b[38;5;28mgetattr\u001b[39m(\u001b[38;5;28mself\u001b[39m\u001b[38;5;241m.\u001b[39m_session, method)(uri, \u001b[38;5;241m*\u001b[39m\u001b[38;5;241m*\u001b[39mkwargs)\n\u001b[1;32m---> 41\u001b[0m \u001b[38;5;28;01mreturn\u001b[39;00m \u001b[38;5;28;43mself\u001b[39;49m\u001b[38;5;241;43m.\u001b[39;49m\u001b[43m_handle_response\u001b[49m\u001b[43m(\u001b[49m\u001b[43mresponse\u001b[49m\u001b[43m)\u001b[49m\n",
      "File \u001b[1;32m~\\AppData\\Local\\Programs\\Python\\Python311\\Lib\\site-packages\\finnhub\\client.py:46\u001b[0m, in \u001b[0;36mClient._handle_response\u001b[1;34m(response)\u001b[0m\n\u001b[0;32m     43\u001b[0m \u001b[38;5;129m@staticmethod\u001b[39m\n\u001b[0;32m     44\u001b[0m \u001b[38;5;28;01mdef\u001b[39;00m \u001b[38;5;21m_handle_response\u001b[39m(response):\n\u001b[0;32m     45\u001b[0m     \u001b[38;5;28;01mif\u001b[39;00m \u001b[38;5;129;01mnot\u001b[39;00m response\u001b[38;5;241m.\u001b[39mok:\n\u001b[1;32m---> 46\u001b[0m         \u001b[38;5;28;01mraise\u001b[39;00m FinnhubAPIException(response)\n\u001b[0;32m     48\u001b[0m     \u001b[38;5;28;01mtry\u001b[39;00m:\n\u001b[0;32m     49\u001b[0m         content_type \u001b[38;5;241m=\u001b[39m response\u001b[38;5;241m.\u001b[39mheaders\u001b[38;5;241m.\u001b[39mget(\u001b[38;5;124m'\u001b[39m\u001b[38;5;124mContent-Type\u001b[39m\u001b[38;5;124m'\u001b[39m, \u001b[38;5;124m'\u001b[39m\u001b[38;5;124m'\u001b[39m)\n",
      "\u001b[1;31mFinnhubAPIException\u001b[0m: FinnhubAPIException(status_code: 403): You don't have access to this resource."
     ]
    }
   ],
   "source": [
    "import finnhub\n",
    "import pandas as pd\n",
    "import numpy as np\n",
    "from sklearn.ensemble import RandomForestClassifier\n",
    "from sklearn.model_selection import train_test_split\n",
    "from sklearn.metrics import accuracy_score\n",
    "\n",
    "# Initialize Finnhub client\n",
    "def init_finnhub_client(api_key):\n",
    "    return finnhub.Client(api_key=api_key)\n",
    "\n",
    "# Function to get stock data from Finnhub\n",
    "def get_stock_data(symbol, client):\n",
    "    res = client.stock_candles(symbol, 'D', int(pd.Timestamp('2020-01-01').timestamp()), int(pd.Timestamp.now().timestamp()))\n",
    "    data = pd.DataFrame(res)\n",
    "    data['t'] = pd.to_datetime(data['t'], unit='s')\n",
    "    data.set_index('t', inplace=True)\n",
    "    data = data.rename(columns={'c': 'close', 'h': 'high', 'l': 'low', 'o': 'open', 'v': 'volume'})\n",
    "    data = data[['open', 'high', 'low', 'close', 'volume']]\n",
    "    return data\n",
    "\n",
    "# Detect sudden price changes\n",
    "def detect_sudden_changes(data, threshold=0.05):\n",
    "    data['price_change'] = data['close'].pct_change()\n",
    "    data['sudden_fall'] = data['price_change'] < -threshold\n",
    "    data['sudden_rise'] = data['price_change'] > threshold\n",
    "    return data\n",
    "\n",
    "# Feature engineering\n",
    "def add_features(data):\n",
    "    data['7d_avg'] = data['close'].rolling(window=7).mean()\n",
    "    data['30d_avg'] = data['close'].rolling(window=30).mean()\n",
    "    data['365d_avg'] = data['close'].rolling(window=365).mean()\n",
    "    data['7d_std'] = data['close'].rolling(window=7).std()\n",
    "    data['30d_std'] = data['close'].rolling(window=30).std()\n",
    "    return data.dropna()\n",
    "\n",
    "# Prepare data for training\n",
    "def prepare_training_data(data):\n",
    "    data = add_features(data)\n",
    "    X = data[['7d_avg', '30d_avg', '365d_avg', '7d_std', '30d_std']]\n",
    "    y = np.where(data['close'].shift(-30) > data['close'], 1, 0)  # Long term: 30 days\n",
    "    y_short = np.where(data['close'].shift(-7) > data['close'], 1, 0)  # Short term: 7 days\n",
    "    return X, y, y_short\n",
    "\n",
    "# Train models\n",
    "def train_models(X, y, y_short):\n",
    "    X_train, X_test, y_train, y_test = train_test_split(X, y, test_size=0.2, random_state=42)\n",
    "    X_train_short, X_test_short, y_train_short, y_test_short = train_test_split(X, y_short, test_size=0.2, random_state=42)\n",
    "\n",
    "    clf_long = RandomForestClassifier(n_estimators=100, random_state=42)\n",
    "    clf_short = RandomForestClassifier(n_estimators=100, random_state=42)\n",
    "\n",
    "    clf_long.fit(X_train, y_train)\n",
    "    clf_short.fit(X_train_short, y_train_short)\n",
    "\n",
    "    y_pred = clf_long.predict(X_test)\n",
    "    y_pred_short = clf_short.predict(X_test_short)\n",
    "\n",
    "    print(\"Long-term accuracy:\", accuracy_score(y_test, y_pred))\n",
    "    print(\"Short-term accuracy:\", accuracy_score(y_test_short, y_pred_short))\n",
    "\n",
    "    return clf_long, clf_short\n",
    "\n",
    "# Function to predict and provide alerts\n",
    "def predict_and_alert(data, clf_long, clf_short):\n",
    "    data = add_features(data)\n",
    "    X = data[['7d_avg', '30d_avg', '365d_avg', '7d_std', '30d_std']]\n",
    "\n",
    "    data['long_term_signal'] = clf_long.predict(X)\n",
    "    data['short_term_signal'] = clf_short.predict(X)\n",
    "\n",
    "    alerts = data[(data['sudden_fall'] | data['sudden_rise'])]\n",
    "    recommendations = data[(data['long_term_signal'] == 1) | (data['short_term_signal'] == 1)]\n",
    "\n",
    "    return alerts, recommendations\n",
    "\n",
    "# Main function to execute the process\n",
    "def main():\n",
    "    api_key = 'cqavolpr01qmfd85ggmgcqavolpr01qmfd85ggn0'\n",
    "    symbol = 'AAPL'\n",
    "    \n",
    "    client = init_finnhub_client(api_key)\n",
    "    stock_data = get_stock_data(symbol, client)\n",
    "    stock_data = detect_sudden_changes(stock_data)\n",
    "\n",
    "    X, y, y_short = prepare_training_data(stock_data)\n",
    "    clf_long, clf_short = train_models(X, y, y_short)\n",
    "\n",
    "    alerts, recommendations = predict_and_alert(stock_data, clf_long, clf_short)\n",
    "    print(\"Alerts:\\n\", alerts[['close', 'sudden_fall', 'sudden_rise']])\n",
    "    print(\"Recommendations:\\n\", recommendations[['close', 'long_term_signal', 'short_term_signal']])\n",
    "\n",
    "if __name__ == \"__main__\":\n",
    "    main()\n"
   ]
  },
  {
   "cell_type": "code",
   "execution_count": null,
   "id": "6fbd6764",
   "metadata": {},
   "outputs": [],
   "source": []
  }
 ],
 "metadata": {
  "kernelspec": {
   "display_name": "Python 3 (ipykernel)",
   "language": "python",
   "name": "python3"
  },
  "language_info": {
   "codemirror_mode": {
    "name": "ipython",
    "version": 3
   },
   "file_extension": ".py",
   "mimetype": "text/x-python",
   "name": "python",
   "nbconvert_exporter": "python",
   "pygments_lexer": "ipython3",
   "version": "3.11.4"
  }
 },
 "nbformat": 4,
 "nbformat_minor": 5
}
